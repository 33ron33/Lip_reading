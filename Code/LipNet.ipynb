{
 "cells": [
  {
   "cell_type": "markdown",
   "id": "c46c1919-1e69-4373-920c-263d6eeca158",
   "metadata": {},
   "source": [
    "# <span style=\"font-family:times; font-size:1.5em;\"> <b>LipNet: Lip-reading Machine Learning Model"
   ]
  },
  {
   "cell_type": "markdown",
   "id": "803c7e01-0a2d-4f87-99a1-8796b678789b",
   "metadata": {},
   "source": [
    "<span style=\"font-family:times; font-size:1.1em;\">  Working in the LiveLipNet-env, for setting-up the environment and other python scripts, data and the saved checkpoints refer to - https://github.com/33ron33/Lip_reading"
   ]
  },
  {
   "cell_type": "markdown",
   "id": "7b660121-6769-4c61-a400-03f219b1278d",
   "metadata": {},
   "source": [
    "<span style=\"font-family:times; font-size:1.3em;\"> Checking the installed libraries in the environment."
   ]
  },
  {
   "cell_type": "code",
   "execution_count": 1,
   "id": "ad1ad6b6-88c5-4387-980a-be8427f11147",
   "metadata": {
    "scrolled": true
   },
   "outputs": [
    {
     "name": "stdout",
     "output_type": "stream",
     "text": [
      "Package                       Version\n",
      "----------------------------- ---------------\n",
      "absl-py                       1.4.0\n",
      "aiobotocore                   2.7.0\n",
      "aiohttp                       3.9.0\n",
      "aioitertools                  0.7.1\n",
      "aiosignal                     1.2.0\n",
      "alabaster                     0.7.12\n",
      "altair                        5.3.0\n",
      "anaconda-anon-usage           0.4.2\n",
      "anaconda-catalogs             0.2.0\n",
      "anaconda-client               1.12.1\n",
      "anaconda-cloud-auth           0.1.4\n",
      "anaconda-navigator            2.5.0\n",
      "anaconda-project              0.11.1\n",
      "anyio                         3.5.0\n",
      "apache-beam                   2.55.1\n",
      "appdirs                       1.4.4\n",
      "archspec                      0.2.1\n",
      "argon2-cffi                   21.3.0\n",
      "argon2-cffi-bindings          21.2.0\n",
      "array_record                  0.5.1\n",
      "arrow                         1.2.3\n",
      "astroid                       2.14.2\n",
      "astropy                       5.3.4\n",
      "asttokens                     2.0.5\n",
      "astunparse                    1.6.3\n",
      "async-lru                     2.0.4\n",
      "atomicwrites                  1.4.0\n",
      "attrs                         23.1.0\n",
      "Automat                       20.2.0\n",
      "autopep8                      1.6.0\n",
      "avro-python3                  1.10.2\n",
      "Babel                         2.11.0\n",
      "backcall                      0.2.0\n",
      "backports.functools-lru-cache 1.6.4\n",
      "backports.tempfile            1.0\n",
      "backports.weakref             1.0.post1\n",
      "bcrypt                        3.2.0\n",
      "beautifulsoup4                4.12.2\n",
      "binaryornot                   0.4.4\n",
      "black                         23.11.0\n",
      "bleach                        4.1.0\n",
      "blinker                       1.7.0\n",
      "blosc2                        2.0.0\n",
      "bokeh                         3.3.0\n",
      "boltons                       23.0.0\n",
      "botocore                      1.31.64\n",
      "Bottleneck                    1.3.5\n",
      "Brotli                        1.0.9\n",
      "cachetools                    5.3.3\n",
      "certifi                       2024.2.2\n",
      "cffi                          1.16.0\n",
      "chardet                       4.0.0\n",
      "charset-normalizer            2.0.4\n",
      "click                         8.1.7\n",
      "cloudpickle                   2.2.1\n",
      "clyent                        1.2.2\n",
      "colorama                      0.4.6\n",
      "colorcet                      3.0.1\n",
      "comm                          0.1.2\n",
      "conda                         24.1.2\n",
      "conda-build                   3.28.1\n",
      "conda-content-trust           0.2.0\n",
      "conda_index                   0.3.0\n",
      "conda-libmamba-solver         23.12.0\n",
      "conda-pack                    0.6.0\n",
      "conda-package-handling        2.2.0\n",
      "conda_package_streaming       0.9.0\n",
      "conda-repo-cli                1.0.75\n",
      "conda-token                   0.4.0\n",
      "conda-verify                  3.4.2\n",
      "constantly                    15.1.0\n",
      "contextlib2                   21.6.0\n",
      "contourpy                     1.2.0\n",
      "cookiecutter                  2.5.0\n",
      "crcmod                        1.7\n",
      "cryptography                  41.0.7\n",
      "cssselect                     1.1.0\n",
      "cycler                        0.11.0\n",
      "Cython                        3.0.10\n",
      "cytoolz                       0.12.2\n",
      "daal4py                       2023.1.1\n",
      "dask                          2023.11.0\n",
      "datasets                      2.12.0\n",
      "datashader                    0.16.0\n",
      "debugpy                       1.6.7\n",
      "decorator                     5.1.1\n",
      "defusedxml                    0.7.1\n",
      "diff-match-patch              20200713\n",
      "dill                          0.3.1.1\n",
      "distributed                   2023.11.0\n",
      "distro                        1.8.0\n",
      "dm-tree                       0.1.8\n",
      "dnspython                     2.6.1\n",
      "docopt                        0.6.2\n",
      "docstring-to-markdown         0.11\n",
      "docutils                      0.18.1\n",
      "entrypoints                   0.4\n",
      "et-xmlfile                    1.1.0\n",
      "etils                         1.8.0\n",
      "executing                     0.8.3\n",
      "fastavro                      1.9.4\n",
      "fasteners                     0.19\n",
      "fastjsonschema                2.16.2\n",
      "filelock                      3.13.1\n",
      "flake8                        6.0.0\n",
      "Flask                         2.2.2\n",
      "flatbuffers                   24.3.25\n",
      "fonttools                     4.25.0\n",
      "frozenlist                    1.4.0\n",
      "fsspec                        2023.10.0\n",
      "future                        0.18.3\n",
      "gast                          0.4.0\n",
      "gdown                         5.1.0\n",
      "gensim                        4.3.0\n",
      "gin-config                    0.5.0\n",
      "gitdb                         4.0.11\n",
      "GitPython                     3.1.43\n",
      "gmpy2                         2.1.2\n",
      "google-api-core               2.18.0\n",
      "google-api-python-client      2.126.0\n",
      "google-auth                   2.29.0\n",
      "google-auth-httplib2          0.2.0\n",
      "google-auth-oauthlib          1.0.0\n",
      "google-pasta                  0.2.0\n",
      "googleapis-common-protos      1.63.0\n",
      "greenlet                      3.0.1\n",
      "grpcio                        1.62.1\n",
      "h5py                          3.11.0\n",
      "hdfs                          2.7.3\n",
      "HeapDict                      1.0.1\n",
      "holoviews                     1.18.1\n",
      "httplib2                      0.22.0\n",
      "huggingface-hub               0.17.3\n",
      "hvplot                        0.9.0\n",
      "hyperlink                     21.0.0\n",
      "idna                          3.4\n",
      "imagecodecs                   2023.1.23\n",
      "imageio                       2.31.4\n",
      "imagesize                     1.4.1\n",
      "imbalanced-learn              0.11.0\n",
      "immutabledict                 4.2.0\n",
      "importlib-metadata            6.0.0\n",
      "importlib_resources           6.4.0\n",
      "incremental                   21.3.0\n",
      "inflection                    0.5.1\n",
      "iniconfig                     1.1.1\n",
      "intake                        0.6.8\n",
      "intervaltree                  3.1.0\n",
      "ipykernel                     6.25.0\n",
      "ipython                       8.15.0\n",
      "ipython-genutils              0.2.0\n",
      "ipywidgets                    8.0.4\n",
      "isort                         5.9.3\n",
      "itemadapter                   0.3.0\n",
      "itemloaders                   1.0.4\n",
      "itsdangerous                  2.0.1\n",
      "jaraco.classes                3.2.1\n",
      "jedi                          0.18.1\n",
      "jeepney                       0.7.1\n",
      "jellyfish                     1.0.1\n",
      "Jinja2                        3.1.2\n",
      "jmespath                      1.0.1\n",
      "joblib                        1.2.0\n",
      "Js2Py                         0.74\n",
      "json5                         0.9.6\n",
      "jsonpatch                     1.32\n",
      "jsonpickle                    3.0.4\n",
      "jsonpointer                   2.1\n",
      "jsonschema                    4.19.2\n",
      "jsonschema-specifications     2023.7.1\n",
      "jupyter                       1.0.0\n",
      "jupyter_client                8.6.0\n",
      "jupyter-console               6.6.3\n",
      "jupyter_core                  5.5.0\n",
      "jupyter-events                0.8.0\n",
      "jupyter-lsp                   2.2.0\n",
      "jupyter_server                2.10.0\n",
      "jupyter_server_terminals      0.4.4\n",
      "jupyterlab                    4.0.8\n",
      "jupyterlab-pygments           0.1.2\n",
      "jupyterlab_server             2.25.1\n",
      "jupyterlab-widgets            3.0.9\n",
      "kaggle                        1.6.12\n",
      "kaleido                       0.2.1\n",
      "keras                         3.2.1\n",
      "keyring                       23.13.1\n",
      "kiwisolver                    1.4.4\n",
      "lazy_loader                   0.3\n",
      "lazy-object-proxy             1.6.0\n",
      "libarchive-c                  2.9\n",
      "libclang                      18.1.1\n",
      "libmambapy                    1.5.3\n",
      "linkify-it-py                 2.0.0\n",
      "llvmlite                      0.41.0\n",
      "lmdb                          1.4.1\n",
      "locket                        1.0.0\n",
      "lvis                          0.5.3\n",
      "lxml                          4.9.3\n",
      "lz4                           4.3.2\n",
      "Markdown                      3.4.1\n",
      "markdown-it-py                2.2.0\n",
      "MarkupSafe                    2.1.1\n",
      "matplotlib                    3.8.0\n",
      "matplotlib-inline             0.1.6\n",
      "mccabe                        0.7.0\n",
      "mdit-py-plugins               0.3.0\n",
      "mdurl                         0.1.0\n",
      "menuinst                      2.0.1\n",
      "mistune                       2.0.4\n",
      "mkl-fft                       1.3.8\n",
      "mkl-random                    1.2.4\n",
      "mkl-service                   2.4.0\n",
      "ml-dtypes                     0.3.2\n",
      "more-itertools                10.1.0\n",
      "mpmath                        1.3.0\n",
      "msgpack                       1.0.3\n",
      "multidict                     6.0.4\n",
      "multipledispatch              0.6.0\n",
      "multiprocess                  0.70.14\n",
      "munkres                       1.1.4\n",
      "mypy-extensions               1.0.0\n",
      "namex                         0.0.8\n",
      "navigator-updater             0.4.0\n",
      "nbclient                      0.8.0\n",
      "nbconvert                     7.10.0\n",
      "nbformat                      5.9.2\n",
      "nest-asyncio                  1.5.6\n",
      "networkx                      3.1\n",
      "nltk                          3.8.1\n",
      "notebook                      7.0.6\n",
      "notebook_shim                 0.2.3\n",
      "numba                         0.58.1\n",
      "numexpr                       2.8.7\n",
      "numpy                         1.24.3\n",
      "numpydoc                      1.5.0\n",
      "oauth2client                  4.1.3\n",
      "oauthlib                      3.2.2\n",
      "object-detection              0.1\n",
      "objsize                       0.7.0\n",
      "opencv-python                 4.6.0.66\n",
      "opencv-python-headless        4.9.0.80\n",
      "openpyxl                      3.0.10\n",
      "opt-einsum                    3.3.0\n",
      "optree                        0.11.0\n",
      "orjson                        3.10.1\n",
      "overrides                     7.4.0\n",
      "packaging                     23.1\n",
      "pandas                        2.1.4\n",
      "pandocfilters                 1.5.0\n",
      "panel                         1.3.1\n",
      "param                         2.0.1\n",
      "parsel                        1.6.0\n",
      "parso                         0.8.3\n",
      "partd                         1.4.1\n",
      "pathlib                       1.0.1\n",
      "pathspec                      0.10.3\n",
      "patsy                         0.5.3\n",
      "pep8                          1.7.1\n",
      "pexpect                       4.8.0\n",
      "pickleshare                   0.7.5\n",
      "Pillow                        10.0.1\n",
      "pip                           23.2.1\n",
      "pkce                          1.0.3\n",
      "pkginfo                       1.9.6\n",
      "platformdirs                  3.10.0\n",
      "plotly                        5.9.0\n",
      "pluggy                        1.0.0\n",
      "ply                           3.11\n",
      "portalocker                   2.8.2\n",
      "prometheus-client             0.14.1\n",
      "promise                       2.3\n",
      "prompt-toolkit                3.0.36\n",
      "Protego                       0.1.16\n",
      "proto-plus                    1.23.0\n",
      "protobuf                      3.20.3\n",
      "psutil                        5.9.0\n",
      "ptyprocess                    0.7.0\n",
      "pure-eval                     0.2.2\n",
      "py-cpuinfo                    9.0.0\n",
      "pyarrow                       11.0.0\n",
      "pyarrow-hotfix                0.6\n",
      "pyasn1                        0.4.8\n",
      "pyasn1-modules                0.2.8\n",
      "pycocotools                   2.0\n",
      "pycodestyle                   2.10.0\n",
      "pycosat                       0.6.6\n",
      "pycparser                     2.21\n",
      "pyct                          0.5.0\n",
      "pycurl                        7.45.2\n",
      "pydantic                      1.10.12\n",
      "pydeck                        0.8.1b0\n",
      "PyDispatcher                  2.0.5\n",
      "pydocstyle                    6.3.0\n",
      "pydot                         1.4.2\n",
      "pyerfa                        2.0.0\n",
      "pyflakes                      3.0.1\n",
      "Pygments                      2.15.1\n",
      "pyjsparser                    2.7.1\n",
      "PyJWT                         2.4.0\n",
      "pylint                        2.16.2\n",
      "pylint-venv                   2.3.0\n",
      "pyls-spyder                   0.4.0\n",
      "pymongo                       4.6.3\n",
      "pyodbc                        4.0.39\n",
      "pyOpenSSL                     23.2.0\n",
      "pyparsing                     2.4.7\n",
      "PyQt5                         5.15.10\n",
      "PyQt5-sip                     12.13.0\n",
      "PyQtWebEngine                 5.15.6\n",
      "PySocks                       1.7.1\n",
      "pytest                        7.4.0\n",
      "python-dateutil               2.8.2\n",
      "python-dotenv                 0.21.0\n",
      "python-json-logger            2.0.7\n",
      "python-lsp-black              1.2.1\n",
      "python-lsp-jsonrpc            1.0.0\n",
      "python-lsp-server             1.7.2\n",
      "python-slugify                5.0.2\n",
      "python-snappy                 0.6.1\n",
      "pytoolconfig                  1.2.6\n",
      "pytz                          2023.3.post1\n",
      "pyviz_comms                   3.0.0\n",
      "PyWavelets                    1.4.1\n",
      "pyxdg                         0.27\n",
      "PyYAML                        6.0.1\n",
      "pyzmq                         25.1.0\n",
      "QDarkStyle                    3.0.2\n",
      "qstylizer                     0.2.2\n",
      "QtAwesome                     1.2.2\n",
      "qtconsole                     5.4.2\n",
      "QtPy                          2.4.1\n",
      "queuelib                      1.6.2\n",
      "referencing                   0.30.2\n",
      "regex                         2023.10.3\n",
      "requests                      2.31.0\n",
      "requests-file                 1.5.1\n",
      "requests-oauthlib             2.0.0\n",
      "requests-toolbelt             1.0.0\n",
      "responses                     0.13.3\n",
      "rfc3339-validator             0.1.4\n",
      "rfc3986-validator             0.1.1\n",
      "rich                          13.3.5\n",
      "rope                          1.7.0\n",
      "rpds-py                       0.10.6\n",
      "rsa                           4.9\n",
      "Rtree                         1.0.1\n",
      "ruamel.yaml                   0.17.21\n",
      "ruamel-yaml-conda             0.17.21\n",
      "s3fs                          2023.10.0\n",
      "sacrebleu                     2.2.0\n",
      "safetensors                   0.4.0\n",
      "scikit-image                  0.20.0\n",
      "scikit-learn                  1.2.2\n",
      "scikit-learn-intelex          20230426.111612\n",
      "scipy                         1.11.4\n",
      "Scrapy                        2.8.0\n",
      "seaborn                       0.12.2\n",
      "SecretStorage                 3.3.1\n",
      "semver                        2.13.0\n",
      "Send2Trash                    1.8.2\n",
      "sentencepiece                 0.2.0\n",
      "seqeval                       1.2.2\n",
      "service-identity              18.1.0\n",
      "setuptools                    68.0.0\n",
      "sip                           6.7.12\n",
      "six                           1.16.0\n",
      "smart-open                    5.2.1\n",
      "smmap                         5.0.1\n",
      "sniffio                       1.2.0\n",
      "snowballstemmer               2.2.0\n",
      "sns                           0.1\n",
      "sortedcontainers              2.4.0\n",
      "soupsieve                     2.5\n",
      "Sphinx                        5.0.2\n",
      "sphinxcontrib-applehelp       1.0.2\n",
      "sphinxcontrib-devhelp         1.0.2\n",
      "sphinxcontrib-htmlhelp        2.0.0\n",
      "sphinxcontrib-jsmath          1.0.1\n",
      "sphinxcontrib-qthelp          1.0.3\n",
      "sphinxcontrib-serializinghtml 1.1.5\n",
      "spyder                        5.4.3\n",
      "spyder-kernels                2.4.4\n",
      "SQLAlchemy                    2.0.21\n",
      "stack-data                    0.2.0\n",
      "statsmodels                   0.14.0\n",
      "streamlit                     1.33.0\n",
      "sympy                         1.12\n",
      "tables                        3.8.0\n",
      "tabulate                      0.9.0\n",
      "TBB                           0.2\n",
      "tblib                         1.7.0\n",
      "tenacity                      8.2.2\n",
      "tensorboard                   2.16.2\n",
      "tensorboard-data-server       0.7.2\n",
      "tensorflow                    2.16.1\n",
      "tensorflow-datasets           4.9.4\n",
      "tensorflow-estimator          2.13.0\n",
      "tensorflow-hub                0.16.1\n",
      "tensorflow-io                 0.36.0\n",
      "tensorflow-io-gcs-filesystem  0.36.0\n",
      "tensorflow-metadata           1.14.0\n",
      "tensorflow-model-optimization 0.8.0\n",
      "tensorflow-text               2.16.1\n",
      "termcolor                     2.4.0\n",
      "terminado                     0.17.1\n",
      "text-unidecode                1.3\n",
      "textdistance                  4.2.1\n",
      "tf_keras                      2.16.0\n",
      "tf-models-official            2.16.0\n",
      "tf-slim                       1.1.0\n",
      "threadpoolctl                 2.2.0\n",
      "three-merge                   0.1.1\n",
      "tifffile                      2023.4.12\n",
      "tinycss2                      1.2.1\n",
      "tldextract                    3.2.0\n",
      "tokenizers                    0.13.3\n",
      "toml                          0.10.2\n",
      "tomlkit                       0.11.1\n",
      "toolz                         0.12.0\n",
      "tornado                       6.3.3\n",
      "tqdm                          4.65.0\n",
      "traitlets                     5.7.1\n",
      "transformers                  4.32.1\n",
      "truststore                    0.8.0\n",
      "Twisted                       22.10.0\n",
      "typing_extensions             4.5.0\n",
      "tzdata                        2023.3\n",
      "tzlocal                       5.2\n",
      "uc-micro-py                   1.0.1\n",
      "ujson                         5.4.0\n",
      "Unidecode                     1.2.0\n",
      "uritemplate                   4.1.1\n",
      "urllib3                       1.26.18\n",
      "w3lib                         1.21.0\n",
      "watchdog                      2.1.6\n",
      "wcwidth                       0.2.5\n",
      "webencodings                  0.5.1\n",
      "websocket-client              0.58.0\n",
      "Werkzeug                      2.2.3\n",
      "whatthepatch                  1.0.2\n",
      "wheel                         0.38.4\n",
      "widgetsnbextension            4.0.5\n",
      "wrapt                         1.14.1\n",
      "wurlitzer                     3.0.2\n",
      "xarray                        2023.6.0\n",
      "xxhash                        2.0.2\n",
      "xyzservices                   2022.9.0\n",
      "yapf                          0.31.0\n",
      "yarl                          1.9.3\n",
      "zict                          3.0.0\n",
      "zipp                          3.11.0\n",
      "zope.interface                5.4.0\n",
      "zstandard                     0.19.0\n"
     ]
    }
   ],
   "source": [
    "! pip list"
   ]
  },
  {
   "cell_type": "markdown",
   "id": "1d0cce74-e742-43a5-aad4-c4932c204aa1",
   "metadata": {},
   "source": [
    "<div class='alert alert-success'><span style=\"font-family:times; font-size:1.5em;\"> Importing the libraries used in the code.\n",
    "</span>\n",
    "</div>"
   ]
  },
  {
   "cell_type": "code",
   "execution_count": 1,
   "id": "73287483-dd61-462c-a665-658300605ea1",
   "metadata": {},
   "outputs": [
    {
     "name": "stderr",
     "output_type": "stream",
     "text": [
      "2024-04-25 23:47:14.924914: I tensorflow/core/util/port.cc:110] oneDNN custom operations are on. You may see slightly different numerical results due to floating-point round-off errors from different computation orders. To turn them off, set the environment variable `TF_ENABLE_ONEDNN_OPTS=0`.\n",
      "2024-04-25 23:47:14.965545: I tensorflow/core/platform/cpu_feature_guard.cc:182] This TensorFlow binary is optimized to use available CPU instructions in performance-critical operations.\n",
      "To enable the following instructions: SSE4.1 SSE4.2 AVX AVX2 AVX512F AVX512_VNNI FMA, in other operations, rebuild TensorFlow with the appropriate compiler flags.\n"
     ]
    }
   ],
   "source": [
    "import os # For opening and connnecting paths to the files\n",
    "import cv2 # For computer Vision that is for image or video processing\n",
    "import tensorflow as tf # For model training in Machine Learning\n",
    "import numpy as np # For Numerical Operations\n",
    "from matplotlib import pyplot as plt # For Plotting images (frames) and functions\n",
    "import imageio # For converting the images to gifs\n",
    "from typing import List\n",
    "\n",
    "# Tensorflow Model Libraries.\n",
    "from tensorflow.keras import layers, models\n",
    "from tensorflow.keras.models import Sequential # Represents the sequence of layers of the model.\n",
    "\n",
    "# Components of the layered model architecture\n",
    "from tensorflow.keras.layers import Conv3D, LSTM, Dense, Dropout, Bidirectional, MaxPool3D, Activation, TimeDistributed, Flatten \n",
    "from tensorflow.keras.optimizers import Adam # importing the optimizer for the model.\n",
    "\n",
    " # For saving the trained weights and for changing the lerning rate during training.  \n",
    "from tensorflow.keras.callbacks import ModelCheckpoint, LearningRateScheduler "
   ]
  },
  {
   "cell_type": "markdown",
   "id": "312dde46-d388-412b-afc2-74b87642b07b",
   "metadata": {},
   "source": [
    "<div class='alert alert-success'><span style=\"font-family:times; font-size:1.5em;\"> Checking for the GPU availability.\n",
    "</span>\n",
    "</div>\n"
   ]
  },
  {
   "cell_type": "code",
   "execution_count": 2,
   "id": "8b4cc92a-b127-4f85-b39f-6e729d43445e",
   "metadata": {},
   "outputs": [
    {
     "name": "stdout",
     "output_type": "stream",
     "text": [
      "Thu Apr 25 23:47:40 2024       \n",
      "+---------------------------------------------------------------------------------------+\n",
      "| NVIDIA-SMI 535.86.10              Driver Version: 535.86.10    CUDA Version: 12.2     |\n",
      "|-----------------------------------------+----------------------+----------------------+\n",
      "| GPU  Name                 Persistence-M | Bus-Id        Disp.A | Volatile Uncorr. ECC |\n",
      "| Fan  Temp   Perf          Pwr:Usage/Cap |         Memory-Usage | GPU-Util  Compute M. |\n",
      "|                                         |                      |               MIG M. |\n",
      "|=========================================+======================+======================|\n",
      "|   0  Tesla V100S-PCIE-32GB          On  | 00000000:3B:00.0 Off |                    0 |\n",
      "| N/A   40C    P0              26W / 250W |      0MiB / 32768MiB |      0%      Default |\n",
      "|                                         |                      |                  N/A |\n",
      "+-----------------------------------------+----------------------+----------------------+\n",
      "                                                                                         \n",
      "+---------------------------------------------------------------------------------------+\n",
      "| Processes:                                                                            |\n",
      "|  GPU   GI   CI        PID   Type   Process name                            GPU Memory |\n",
      "|        ID   ID                                                             Usage      |\n",
      "|=======================================================================================|\n",
      "|  No running processes found                                                           |\n",
      "+---------------------------------------------------------------------------------------+\n",
      "GPU is available! [PhysicalDevice(name='/physical_device:GPU:0', device_type='GPU')]\n"
     ]
    }
   ],
   "source": [
    "# Checks for the GPU\n",
    "!nvidia-smi\n",
    "if len(tf.config.list_physical_devices('GPU'))>0:\n",
    "    print( 'GPU is available!',tf.config.list_physical_devices('GPU'))\n",
    "else:\n",
    "    print(\"No GPU is available\")"
   ]
  },
  {
   "cell_type": "markdown",
   "id": "d8f8a9ed-31c3-48a9-a7d0-bda9db1f53f4",
   "metadata": {},
   "source": [
    "<div class='alert alert-success'><span style=\"font-family:times; font-size:1.5em;\"> Defining our english letters and numbers that the model may encounter.\n",
    "</span>\n",
    "</div>"
   ]
  },
  {
   "cell_type": "code",
   "execution_count": 3,
   "id": "d48146f0-dd61-4c9c-bb3d-45e70bc5e527",
   "metadata": {},
   "outputs": [
    {
     "name": "stderr",
     "output_type": "stream",
     "text": [
      "2024-04-25 23:47:41.241101: I tensorflow/core/common_runtime/gpu/gpu_device.cc:1639] Created device /job:localhost/replica:0/task:0/device:GPU:0 with 31141 MB memory:  -> device: 0, name: Tesla V100S-PCIE-32GB, pci bus id: 0000:3b:00.0, compute capability: 7.0\n"
     ]
    }
   ],
   "source": [
    "''' Loading the subtitles that are enocded in the .align files, but before that we need to describe our words and letters that the model may encounter-\n",
    "and writing a code segment that can convert the numbers to the chararcters and the vice versa of it '''\n",
    "\n",
    "vocab = \"abcdefghijklmnopqrstuvwxyz'?!123456789 \"\n",
    "# Mapping the english letters to numbers\n",
    "letter_to_number = tf.keras.layers.StringLookup(vocabulary=list(vocab), oov_token=\"\")\n",
    " # Mapping the numbers to letters-\n",
    "numbers_to_letters = tf.keras.layers.StringLookup(vocabulary=letter_to_number.get_vocabulary(), oov_token=\"\", invert=True)"
   ]
  },
  {
   "cell_type": "code",
   "execution_count": 4,
   "id": "23e4b887-dd9c-432a-8e40-1662e21ca656",
   "metadata": {},
   "outputs": [
    {
     "name": "stdout",
     "output_type": "stream",
     "text": [
      "The vocabulary is: ['', 'a', 'b', 'c', 'd', 'e', 'f', 'g', 'h', 'i', 'j', 'k', 'l', 'm', 'n', 'o', 'p', 'q', 'r', 's', 't', 'u', 'v', 'w', 'x', 'y', 'z', \"'\", '?', '!', '1', '2', '3', '4', '5', '6', '7', '8', '9', ' '] (size =40)\n"
     ]
    }
   ],
   "source": [
    "print(f\"The vocabulary is: {letter_to_number.get_vocabulary()} \"f\"(size ={letter_to_number.vocabulary_size()})\")"
   ]
  },
  {
   "cell_type": "code",
   "execution_count": 5,
   "id": "8bb58a12-1411-469f-a3b3-d99034d968b5",
   "metadata": {},
   "outputs": [
    {
     "data": {
      "text/plain": [
       "<tf.Tensor: shape=(5,), dtype=int64, numpy=array([18, 15,  8,  1, 14])>"
      ]
     },
     "execution_count": 5,
     "metadata": {},
     "output_type": "execute_result"
    }
   ],
   "source": [
    "letter_to_number(['r','o','h','a','n'])"
   ]
  },
  {
   "cell_type": "code",
   "execution_count": 6,
   "id": "2cd76a0d-ccb3-4a8d-ae60-712418eaaa04",
   "metadata": {},
   "outputs": [
    {
     "data": {
      "text/plain": [
       "<tf.Tensor: shape=(5,), dtype=string, numpy=array([b'r', b'o', b'h', b'a', b'n'], dtype=object)>"
      ]
     },
     "execution_count": 6,
     "metadata": {},
     "output_type": "execute_result"
    }
   ],
   "source": [
    "numbers_to_letters([18, 15,  8,  1, 14])"
   ]
  },
  {
   "cell_type": "markdown",
   "id": "6b2866ad-c9c4-4a6c-bf54-2a84a1a7e5d1",
   "metadata": {},
   "source": [
    "<div class='alert alert-success'><span style=\"font-family:times; font-size:1.5em;\"> Importing and Pre-processing the GRID-dataset.\n",
    "</span>\n",
    "</div>"
   ]
  },
  {
   "cell_type": "code",
   "execution_count": 7,
   "id": "c5983dac-56f0-4b38-b442-632e898be038",
   "metadata": {},
   "outputs": [],
   "source": [
    "def grid_data_import(path: str): # -> Tuple[tf.Tensor, tf.Tensor]: This function imports the video and subtitle alignment data given the base path.\n",
    "    \n",
    "\n",
    "    def import_video(path: str) -> tf.Tensor:  # This function imports the video\n",
    "        \n",
    "        cap = cv2.VideoCapture(path) # Load the video\n",
    "        frames = [] # Create an empty list to store the frames\n",
    "        while True: # Loop through all the frames\n",
    "            ret, frame = cap.read() # Read the frame\n",
    "            if not ret: # If the frame is not read, break the loop\n",
    "                break \n",
    "            frame = tf.image.rgb_to_grayscale(frame) # Convert the frame to grayscale\n",
    "            frames.append(frame[190:236, 80:220, :]) # Crop the frame and append it to the list\n",
    "        cap.release() # Release the video\n",
    "        frames = tf.convert_to_tensor(frames, dtype=tf.float32) # Convert the list to a tensor\n",
    "        mean = tf.math.reduce_mean(frames) # Calculate the mean of the frames so that we can normalize them\n",
    "        std = tf.math.reduce_std(frames)    # Calculate the standard deviation of the frames\n",
    "        return (frames - mean) / std # Normalize the frames and return them\n",
    "\n",
    "    def import_subtitles(path: str) -> tf.Tensor:   # This function imports the subtitle alignment data\n",
    "        \"\"\"Import subtitle alignment data, convert them to indices using character to number conversion.\"\"\"\n",
    "        with open(path, 'r') as f: # Open the file\n",
    "            lines = f.readlines() # Read the lines\n",
    "        tokens = [] # Create an empty list to store the tokens\n",
    "        for line in lines: # Loop through the lines\n",
    "            parts = line.strip().split() # Split the line\n",
    "            if parts[2] != 'sil':   # If the token is not a silence token\n",
    "                tokens.extend([' ', parts[2]])  # Append the token to the list\n",
    "        tokens = ''.join(tokens) # Join the tokens\n",
    "        return letter_to_number(tf.strings.unicode_split(tokens, 'UTF-8')) # Convert the tokens to numbers\n",
    "\n",
    "    \n",
    "    # Check if input is a TensorFlow tensor and convert to Python string if so\n",
    "    '''I have added this to make this complatible for both the calls for a string or a tensor'''\n",
    "    if isinstance(path, tf.Tensor):\n",
    "        path = path.numpy().decode('utf-8')\n",
    "    else:\n",
    "        path = path\n",
    "        \n",
    "    file_name = os.path.splitext(os.path.basename(path))[0] # Get the file name\n",
    "    video_path = os.path.join('data', 's1', f'{file_name}.mpg') # Get the video path\n",
    "    alignment_path = os.path.join('data', 'alignments', 's1', f'{file_name}.align') # Get the alignment path\n",
    "\n",
    "    frames = import_video(video_path) # Import the video\n",
    "    alignments = import_subtitles(alignment_path)    # Import the alignments \n",
    "    return frames, alignments\n"
   ]
  },
  {
   "cell_type": "markdown",
   "id": "71b2836a-aa16-4127-9a74-d194633c3cd1",
   "metadata": {},
   "source": [
    "<div class='alert alert-success'> <span style=\"font-family:times; font-size:1.5em;\"> Checking the functioning of the above defined grid_data_import function for a sample path.\n",
    "</span>\n",
    "</div>"
   ]
  },
  {
   "cell_type": "code",
   "execution_count": 8,
   "id": "b690d155-c98a-4949-aa46-f21f0d71158d",
   "metadata": {},
   "outputs": [
    {
     "data": {
      "text/plain": [
       "<tf.Tensor: shape=(22,), dtype=int64, numpy=\n",
       "array([39,  2,  9, 14, 39,  2, 12, 21,  5, 39,  1, 20, 39,  6, 39, 20, 23,\n",
       "       15, 39, 14, 15, 23])>"
      ]
     },
     "execution_count": 8,
     "metadata": {},
     "output_type": "execute_result"
    },
    {
     "data": {
      "image/png": "[encoded data removed]",
      "text/plain": [
       "<Figure size 640x480 with 1 Axes>"
      ]
     },
     "metadata": {},
     "output_type": "display_data"
    }
   ],
   "source": [
    "# Test the functionality\n",
    "test_path = 'data/s1/bbaf2n.mpg'\n",
    "frames, alignments = grid_data_import(test_path)\n",
    "plt.imshow(frames[33]) # Lipmovements at this frame\n",
    "alignments # Subtitles in the form of numbers"
   ]
  },
  {
   "cell_type": "code",
   "execution_count": 9,
   "id": "0df92282-741b-47c7-adbe-c615b93b0270",
   "metadata": {},
   "outputs": [
    {
     "data": {
      "text/plain": [
       "TensorShape([75, 46, 140, 1])"
      ]
     },
     "execution_count": 9,
     "metadata": {},
     "output_type": "execute_result"
    }
   ],
   "source": [
    "frames.shape"
   ]
  },
  {
   "cell_type": "code",
   "execution_count": 10,
   "id": "f6f61a2c-20bd-417a-a0ff-32ea04df0c11",
   "metadata": {},
   "outputs": [
    {
     "data": {
      "text/plain": [
       "<tf.Tensor: shape=(), dtype=string, numpy=b' bin blue at f two now'>"
      ]
     },
     "execution_count": 10,
     "metadata": {},
     "output_type": "execute_result"
    }
   ],
   "source": [
    "tf.strings.reduce_join([bytes.decode(x) for x in numbers_to_letters(alignments.numpy()).numpy()])"
   ]
  },
  {
   "cell_type": "code",
   "execution_count": 11,
   "id": "e30c7628-ef1c-4368-b2ed-2bcecf1ddfb2",
   "metadata": {},
   "outputs": [
    {
     "data": {
      "text/plain": [
       "TensorShape([75, 46, 140, 1])"
      ]
     },
     "execution_count": 11,
     "metadata": {},
     "output_type": "execute_result"
    }
   ],
   "source": [
    "frames.shape"
   ]
  },
  {
   "cell_type": "markdown",
   "id": "1157ae5d-98cc-4092-bdb9-de64cbd9a1e1",
   "metadata": {},
   "source": [
    "<span style=\"font-family:times; font-size:1.5em;\"> Defining the functions seperately if need in the code."
   ]
  },
  {
   "cell_type": "code",
   "execution_count": 58,
   "id": "00bbc076-4fbc-4854-a9e2-e4c367ba8ab0",
   "metadata": {},
   "outputs": [],
   "source": [
    "def load_video(path: str) -> tf.Tensor:\n",
    "    \"\"\"Load video frames, convert them to grayscale, normalize them, and return as a tensor.\"\"\"\n",
    "    cap = cv2.VideoCapture(path)\n",
    "    frames = []\n",
    "    while True:\n",
    "        ret, frame = cap.read()\n",
    "        if not ret:\n",
    "            break\n",
    "        frame = tf.image.rgb_to_grayscale(frame)\n",
    "        frames.append(frame[190:236, 80:220, :])\n",
    "    cap.release()\n",
    "    frames = tf.convert_to_tensor(frames, dtype=tf.float32)\n",
    "    mean = tf.math.reduce_mean(frames)\n",
    "    std = tf.math.reduce_std(frames)\n",
    "    return (frames - mean) / std\n"
   ]
  },
  {
   "cell_type": "code",
   "execution_count": 59,
   "id": "61b33f74-d29e-471d-abe7-38737afb6f34",
   "metadata": {},
   "outputs": [],
   "source": [
    "def load_alignments(path: str) -> tf.Tensor:\n",
    "    \"\"\"Load alignment data, convert them to indices using character to number conversion.\"\"\"\n",
    "    with open(path, 'r') as f:\n",
    "        lines = f.readlines()\n",
    "    tokens = []\n",
    "    for line in lines:\n",
    "        parts = line.strip().split()\n",
    "        if parts[2] != 'sil':\n",
    "            tokens.extend([' ', parts[2]])\n",
    "    tokens = ''.join(tokens)\n",
    "    return letter_to_number(tf.strings.unicode_split(tokens, 'UTF-8'))"
   ]
  },
  {
   "cell_type": "code",
   "execution_count": 60,
   "id": "02fd7bf2-c1d3-4116-bcbd-bb46a4a5e99c",
   "metadata": {},
   "outputs": [],
   "source": [
    "def load_data(path: str):  # -> Tuple[List[float], List[str]]:\n",
    "    path = bytes.decode(path.numpy()) # Convert the path to a string for \n",
    "    file_name = path.split('/')[-1].split('.')[0] # \n",
    "    # File name splitting for windows\n",
    "    #file_name = path.split('\\\\')[-1].split('.')[0]\n",
    "    video_path = os.path.join('data','s1',f'{file_name}.mpg') \n",
    "    alignment_path = os.path.join('data','alignments','s1',f'{file_name}.align')\n",
    "    frames = load_video(video_path) \n",
    "    alignments = load_alignments(alignment_path)\n",
    "    \n",
    "    return frames, alignments"
   ]
  },
  {
   "cell_type": "markdown",
   "id": "661b4e9f-562e-4442-ae0c-ae914a4796cd",
   "metadata": {},
   "source": [
    "<div class='alert alert-success'><span style=\"font-family:times; font-size:1.5em;\"> Creating a DATA Pipeline"
   ]
  },
  {
   "cell_type": "code",
   "execution_count": 15,
   "id": "41cae26c-cc5f-465e-8c59-f03e8d77aa41",
   "metadata": {},
   "outputs": [
    {
     "data": {
      "text/plain": [
       "b'./data/s1/srwo8p.mpg'"
      ]
     },
     "execution_count": 15,
     "metadata": {},
     "output_type": "execute_result"
    }
   ],
   "source": [
    "'''Creating a dataset from the paths that is theis pipeline creates a path where the data is loaded in \n",
    "                                                                               from the s1 folder and the \"data\" function looks for a .mpg files'''\n",
    "data = tf.data.Dataset.list_files('./data/s1/*.mpg') \n",
    "data.as_numpy_iterator().next()"
   ]
  },
  {
   "cell_type": "code",
   "execution_count": 16,
   "id": "7b4021b8-2ef9-4738-adad-e6b7b86d73a8",
   "metadata": {},
   "outputs": [
    {
     "data": {
      "text/plain": [
       "TensorShape([75, 46, 140, 1])"
      ]
     },
     "execution_count": 16,
     "metadata": {},
     "output_type": "execute_result"
    }
   ],
   "source": [
    "frames.shape"
   ]
  },
  {
   "cell_type": "code",
   "execution_count": 17,
   "id": "62e022ba-c9ce-4631-b35c-183401e60bfa",
   "metadata": {},
   "outputs": [
    {
     "data": {
      "text/plain": [
       "TensorShape([75, 46, 140, 1])"
      ]
     },
     "execution_count": 17,
     "metadata": {},
     "output_type": "execute_result"
    }
   ],
   "source": [
    "frames.shape"
   ]
  },
  {
   "cell_type": "code",
   "execution_count": 18,
   "id": "778b24a3-0175-4759-993a-9a2dbbca6cd0",
   "metadata": {},
   "outputs": [
    {
     "data": {
      "text/plain": [
       "<_ShuffleDataset element_spec=TensorSpec(shape=(), dtype=tf.string, name=None)>"
      ]
     },
     "execution_count": 18,
     "metadata": {},
     "output_type": "execute_result"
    }
   ],
   "source": [
    "''' Shuffling the data to train the model with different sets., grabs the first 500 and then resuffles the data again'''\n",
    "data = data.shuffle(500, reshuffle_each_iteration=False) \n",
    "data"
   ]
  },
  {
   "cell_type": "code",
   "execution_count": 19,
   "id": "10128967-57dd-4d3a-bed1-606f7441dbd4",
   "metadata": {},
   "outputs": [
    {
     "data": {
      "text/plain": [
       "TensorShape([75, 46, 140, 1])"
      ]
     },
     "execution_count": 19,
     "metadata": {},
     "output_type": "execute_result"
    }
   ],
   "source": [
    "frames.shape"
   ]
  },
  {
   "cell_type": "code",
   "execution_count": 20,
   "id": "c7fac602-9b31-4e8d-a2be-d5c2470d00d6",
   "metadata": {},
   "outputs": [],
   "source": [
    "'''Till now we are just getting the file path randomly, but we need the data, this is we define a mapping function'''\n",
    "def mappable_function(path):    # -> Tuple[tf.Tensor, tf.Tensor]:\n",
    "    result = tf.py_function(load_data, [path], (tf.float32, tf.int64)) # Load the data\n",
    "    return result "
   ]
  },
  {
   "cell_type": "code",
   "execution_count": 21,
   "id": "2cd7286e-ee92-46b3-b1ea-50d50ce05a81",
   "metadata": {},
   "outputs": [
    {
     "data": {
      "text/plain": [
       "<matplotlib.image.AxesImage at 0x7efce50e40a0>"
      ]
     },
     "execution_count": 21,
     "metadata": {},
     "output_type": "execute_result"
    },
    {
     "data": {
      "image/png": "[encoded data removed]",
      "text/plain": [
       "<Figure size 640x480 with 1 Axes>"
      ]
     },
     "metadata": {},
     "output_type": "display_data"
    }
   ],
   "source": [
    "#  Map the data to the load_data function \n",
    "data = data.map(mappable_function) # Map the data to the load_data function \n",
    "# ---------  ------   Now look, we are able to get our data- frames and alignments  -------- ------ \n",
    "frames, alignments= data.as_numpy_iterator().next()\n",
    "plt.imshow(frames[33])"
   ]
  },
  {
   "cell_type": "code",
   "execution_count": 22,
   "id": "d8baf352-0f20-4dd4-9702-5fdf91a9e3be",
   "metadata": {},
   "outputs": [
    {
     "data": {
      "text/plain": [
       "(75, 46, 140, 1)"
      ]
     },
     "execution_count": 22,
     "metadata": {},
     "output_type": "execute_result"
    }
   ],
   "source": [
    "frames.shape"
   ]
  },
  {
   "cell_type": "code",
   "execution_count": 23,
   "id": "b9cabb15-fa52-42c1-ac65-c252082d3edd",
   "metadata": {},
   "outputs": [
    {
     "data": {
      "text/plain": [
       "array([39,  2,  9, 14, 39,  7, 18,  5,  5, 14, 39,  1, 20, 39, 21, 39, 15,\n",
       "       14,  5, 39,  1,  7,  1,  9, 14])"
      ]
     },
     "execution_count": 23,
     "metadata": {},
     "output_type": "execute_result"
    }
   ],
   "source": [
    "alignments "
   ]
  },
  {
   "cell_type": "code",
   "execution_count": 24,
   "id": "af540cd6-7282-4fc2-b338-48e80a1e4ded",
   "metadata": {},
   "outputs": [],
   "source": [
    "'''We can see that the alignments are of different lenghts, so we also need to pad thedata set for alignments'''\n",
    "data = data.padded_batch(2, padded_shapes=([75,None,None,None],[40])) # We will have two viodes and two alignents"
   ]
  },
  {
   "cell_type": "code",
   "execution_count": 25,
   "id": "dd5195be-aa49-475a-ab03-1792496398de",
   "metadata": {},
   "outputs": [
    {
     "data": {
      "text/plain": [
       "<_PaddedBatchDataset element_spec=(TensorSpec(shape=(None, 75, None, None, None), dtype=tf.float32, name=None), TensorSpec(shape=(None, 40), dtype=tf.int64, name=None))>"
      ]
     },
     "execution_count": 25,
     "metadata": {},
     "output_type": "execute_result"
    }
   ],
   "source": [
    "data"
   ]
  },
  {
   "cell_type": "code",
   "execution_count": 26,
   "id": "ce7a1b83-82f3-4b6d-b622-bc121ecc61e6",
   "metadata": {},
   "outputs": [
    {
     "name": "stdout",
     "output_type": "stream",
     "text": [
      "Batched frames shape: (2, 75, 46, 140, 1)\n",
      "Batched alignments shape: (2, 40)\n"
     ]
    }
   ],
   "source": [
    "# Checking the shape of the dataset \n",
    "for frames, alignments in data.take(1):  # Take just one batch to examine\n",
    "    print(\"Batched frames shape:\", frames.shape)  # This will show the shape of frames in one batch\n",
    "    print(\"Batched alignments shape:\", alignments.shape)  # This will show the shape of alignments in one batch\n"
   ]
  },
  {
   "cell_type": "code",
   "execution_count": 27,
   "id": "e15a777e-f4d0-4889-b158-0d1c85963945",
   "metadata": {},
   "outputs": [],
   "source": [
    "data = data.prefetch(tf.data.AUTOTUNE)  "
   ]
  },
  {
   "cell_type": "code",
   "execution_count": 28,
   "id": "44cfe3d8-62f4-4525-8f04-9651aabf0637",
   "metadata": {},
   "outputs": [
    {
     "data": {
      "text/plain": [
       "TensorShape([2, 40])"
      ]
     },
     "execution_count": 28,
     "metadata": {},
     "output_type": "execute_result"
    }
   ],
   "source": [
    "alignments.shape"
   ]
  },
  {
   "cell_type": "code",
   "execution_count": 29,
   "id": "9f173ed1-05d1-4966-9685-5b4e7894d7f0",
   "metadata": {},
   "outputs": [
    {
     "data": {
      "text/plain": [
       "2"
      ]
     },
     "execution_count": 29,
     "metadata": {},
     "output_type": "execute_result"
    }
   ],
   "source": [
    "len(frames)"
   ]
  },
  {
   "cell_type": "code",
   "execution_count": 30,
   "id": "fb74c0f9-25a9-4250-8afc-2ee2dc1ce009",
   "metadata": {},
   "outputs": [],
   "source": [
    "test=data.as_numpy_iterator()"
   ]
  },
  {
   "cell_type": "code",
   "execution_count": 31,
   "id": "5344f9f4-1d0a-4193-a8da-adb24e4e44a8",
   "metadata": {
    "collapsed": true,
    "jupyter": {
     "outputs_hidden": true
    }
   },
   "outputs": [
    {
     "data": {
      "text/plain": [
       "array([[[[[ 1.2798681 ],\n",
       "          [ 1.2798681 ],\n",
       "          [ 1.2798681 ],\n",
       "          ...,\n",
       "          [-0.45000294],\n",
       "          [-0.37137243],\n",
       "          [-0.6858945 ]],\n",
       "\n",
       "         [[ 1.2798681 ],\n",
       "          [ 1.2798681 ],\n",
       "          [ 1.2798681 ],\n",
       "          ...,\n",
       "          [-1.236308  ],\n",
       "          [-0.8038402 ],\n",
       "          [-0.6465792 ]],\n",
       "\n",
       "         [[ 1.2798681 ],\n",
       "          [ 1.2798681 ],\n",
       "          [ 1.2798681 ],\n",
       "          ...,\n",
       "          [-0.5286335 ],\n",
       "          [-0.29274192],\n",
       "          [-0.25342667]],\n",
       "\n",
       "         ...,\n",
       "\n",
       "         [[ 0.88671565],\n",
       "          [ 0.88671565],\n",
       "          [ 0.88671565],\n",
       "          ...,\n",
       "          [-0.21411143],\n",
       "          [-0.21411143],\n",
       "          [-0.17479618]],\n",
       "\n",
       "         [[ 0.88671565],\n",
       "          [ 0.88671565],\n",
       "          [ 0.88671565],\n",
       "          ...,\n",
       "          [-0.21411143],\n",
       "          [-0.25342667],\n",
       "          [-0.25342667]],\n",
       "\n",
       "         [[ 0.88671565],\n",
       "          [ 0.88671565],\n",
       "          [ 0.88671565],\n",
       "          ...,\n",
       "          [-0.21411143],\n",
       "          [-0.25342667],\n",
       "          [-0.25342667]]],\n",
       "\n",
       "\n",
       "        [[[ 1.2798681 ],\n",
       "          [ 1.2798681 ],\n",
       "          [ 1.2798681 ],\n",
       "          ...,\n",
       "          [-0.29274192],\n",
       "          [-0.41068769],\n",
       "          [-0.8038402 ]],\n",
       "\n",
       "         [[ 1.2798681 ],\n",
       "          [ 1.2798681 ],\n",
       "          [ 1.2798681 ],\n",
       "          ...,\n",
       "          [-1.236308  ],\n",
       "          [-1.0004165 ],\n",
       "          [-0.7252097 ]],\n",
       "\n",
       "         [[ 1.3584987 ],\n",
       "          [ 1.3584987 ],\n",
       "          [ 1.2798681 ],\n",
       "          ...,\n",
       "          [-0.5286335 ],\n",
       "          [-0.25342667],\n",
       "          [-0.21411143]],\n",
       "\n",
       "         ...,\n",
       "\n",
       "         [[ 0.88671565],\n",
       "          [ 0.88671565],\n",
       "          [ 0.88671565],\n",
       "          ...,\n",
       "          [-0.21411143],\n",
       "          [-0.29274192],\n",
       "          [-0.25342667]],\n",
       "\n",
       "         [[ 0.88671565],\n",
       "          [ 0.88671565],\n",
       "          [ 0.88671565],\n",
       "          ...,\n",
       "          [-0.25342667],\n",
       "          [-0.33205718],\n",
       "          [-0.33205718]],\n",
       "\n",
       "         [[ 0.88671565],\n",
       "          [ 0.88671565],\n",
       "          [ 0.88671565],\n",
       "          ...,\n",
       "          [-0.25342667],\n",
       "          [-0.33205718],\n",
       "          [-0.33205718]]],\n",
       "\n",
       "\n",
       "        [[[ 1.2798681 ],\n",
       "          [ 1.2798681 ],\n",
       "          [ 1.2798681 ],\n",
       "          ...,\n",
       "          [-0.29274192],\n",
       "          [-0.45000294],\n",
       "          [-0.7252097 ]],\n",
       "\n",
       "         [[ 1.2798681 ],\n",
       "          [ 1.2798681 ],\n",
       "          [ 1.2798681 ],\n",
       "          ...,\n",
       "          [-1.236308  ],\n",
       "          [-0.92178595],\n",
       "          [-0.8038402 ]],\n",
       "\n",
       "         [[ 1.2798681 ],\n",
       "          [ 1.2798681 ],\n",
       "          [ 1.2798681 ],\n",
       "          ...,\n",
       "          [-0.4893182 ],\n",
       "          [-0.25342667],\n",
       "          [-0.25342667]],\n",
       "\n",
       "         ...,\n",
       "\n",
       "         [[ 0.84740037],\n",
       "          [ 0.84740037],\n",
       "          [ 0.88671565],\n",
       "          ...,\n",
       "          [-0.17479618],\n",
       "          [-0.29274192],\n",
       "          [-0.25342667]],\n",
       "\n",
       "         [[ 0.84740037],\n",
       "          [ 0.84740037],\n",
       "          [ 0.88671565],\n",
       "          ...,\n",
       "          [-0.21411143],\n",
       "          [-0.25342667],\n",
       "          [-0.25342667]],\n",
       "\n",
       "         [[ 0.84740037],\n",
       "          [ 0.84740037],\n",
       "          [ 0.88671565],\n",
       "          ...,\n",
       "          [-0.21411143],\n",
       "          [-0.25342667],\n",
       "          [-0.25342667]]],\n",
       "\n",
       "\n",
       "        ...,\n",
       "\n",
       "\n",
       "        [[[ 1.3978139 ],\n",
       "          [ 1.3978139 ],\n",
       "          [ 1.3584987 ],\n",
       "          ...,\n",
       "          [-0.37137243],\n",
       "          [-0.4893182 ],\n",
       "          [-0.6858945 ]],\n",
       "\n",
       "         [[ 1.3978139 ],\n",
       "          [ 1.3978139 ],\n",
       "          [ 1.3584987 ],\n",
       "          ...,\n",
       "          [-1.393569  ],\n",
       "          [-0.6858945 ],\n",
       "          [-0.45000294]],\n",
       "\n",
       "         [[ 1.2798681 ],\n",
       "          [ 1.2798681 ],\n",
       "          [ 1.2798681 ],\n",
       "          ...,\n",
       "          [-0.5679487 ],\n",
       "          [-0.21411143],\n",
       "          [-0.21411143]],\n",
       "\n",
       "         ...,\n",
       "\n",
       "         [[ 0.88671565],\n",
       "          [ 0.88671565],\n",
       "          [ 0.88671565],\n",
       "          ...,\n",
       "          [-0.29274192],\n",
       "          [-0.29274192],\n",
       "          [-0.29274192]],\n",
       "\n",
       "         [[ 0.88671565],\n",
       "          [ 0.88671565],\n",
       "          [ 0.88671565],\n",
       "          ...,\n",
       "          [-0.25342667],\n",
       "          [-0.29274192],\n",
       "          [-0.29274192]],\n",
       "\n",
       "         [[ 0.88671565],\n",
       "          [ 0.88671565],\n",
       "          [ 0.84740037],\n",
       "          ...,\n",
       "          [-0.25342667],\n",
       "          [-0.29274192],\n",
       "          [-0.29274192]]],\n",
       "\n",
       "\n",
       "        [[[ 1.3584987 ],\n",
       "          [ 1.3584987 ],\n",
       "          [ 1.3584987 ],\n",
       "          ...,\n",
       "          [-0.45000294],\n",
       "          [-0.5286335 ],\n",
       "          [-0.6858945 ]],\n",
       "\n",
       "         [[ 1.3584987 ],\n",
       "          [ 1.3584987 ],\n",
       "          [ 1.3584987 ],\n",
       "          ...,\n",
       "          [-1.393569  ],\n",
       "          [-0.6465792 ],\n",
       "          [-0.6465792 ]],\n",
       "\n",
       "         [[ 1.2012377 ],\n",
       "          [ 1.2012377 ],\n",
       "          [ 1.2012377 ],\n",
       "          ...,\n",
       "          [-0.5286335 ],\n",
       "          [-0.17479618],\n",
       "          [-0.17479618]],\n",
       "\n",
       "         ...,\n",
       "\n",
       "         [[ 0.88671565],\n",
       "          [ 0.88671565],\n",
       "          [ 0.88671565],\n",
       "          ...,\n",
       "          [-0.17479618],\n",
       "          [-0.21411143],\n",
       "          [-0.21411143]],\n",
       "\n",
       "         [[ 0.88671565],\n",
       "          [ 0.88671565],\n",
       "          [ 0.88671565],\n",
       "          ...,\n",
       "          [-0.21411143],\n",
       "          [-0.25342667],\n",
       "          [-0.25342667]],\n",
       "\n",
       "         [[ 0.88671565],\n",
       "          [ 0.88671565],\n",
       "          [ 0.84740037],\n",
       "          ...,\n",
       "          [-0.21411143],\n",
       "          [-0.25342667],\n",
       "          [-0.25342667]]],\n",
       "\n",
       "\n",
       "        [[[ 1.2798681 ],\n",
       "          [ 1.2798681 ],\n",
       "          [ 1.2405529 ],\n",
       "          ...,\n",
       "          [-0.4893182 ],\n",
       "          [-0.4893182 ],\n",
       "          [-0.4893182 ]],\n",
       "\n",
       "         [[ 1.2798681 ],\n",
       "          [ 1.2405529 ],\n",
       "          [ 1.2012377 ],\n",
       "          ...,\n",
       "          [-1.4721996 ],\n",
       "          [-0.45000294],\n",
       "          [-0.5679487 ]],\n",
       "\n",
       "         [[ 1.2798681 ],\n",
       "          [ 1.2798681 ],\n",
       "          [ 1.2798681 ],\n",
       "          ...,\n",
       "          [-0.45000294],\n",
       "          [-0.13548093],\n",
       "          [-0.13548093]],\n",
       "\n",
       "         ...,\n",
       "\n",
       "         [[ 0.88671565],\n",
       "          [ 0.88671565],\n",
       "          [ 0.88671565],\n",
       "          ...,\n",
       "          [-0.17479618],\n",
       "          [-0.21411143],\n",
       "          [-0.21411143]],\n",
       "\n",
       "         [[ 0.88671565],\n",
       "          [ 0.88671565],\n",
       "          [ 0.88671565],\n",
       "          ...,\n",
       "          [-0.25342667],\n",
       "          [-0.25342667],\n",
       "          [-0.25342667]],\n",
       "\n",
       "         [[ 0.88671565],\n",
       "          [ 0.88671565],\n",
       "          [ 0.84740037],\n",
       "          ...,\n",
       "          [-0.25342667],\n",
       "          [-0.25342667],\n",
       "          [-0.25342667]]]],\n",
       "\n",
       "\n",
       "\n",
       "       [[[[ 1.4655367 ],\n",
       "          [ 1.3577075 ],\n",
       "          [ 0.8904472 ],\n",
       "          ...,\n",
       "          [ 0.38724387],\n",
       "          [ 0.42318696],\n",
       "          [ 0.42318696]],\n",
       "\n",
       "         [[ 1.3577075 ],\n",
       "          [ 1.2858213 ],\n",
       "          [ 0.9263903 ],\n",
       "          ...,\n",
       "          [ 0.38724387],\n",
       "          [ 0.42318696],\n",
       "          [ 0.42318696]],\n",
       "\n",
       "         [[ 1.5014799 ],\n",
       "          [ 1.5374229 ],\n",
       "          [ 1.4295937 ],\n",
       "          ...,\n",
       "          [ 0.42318696],\n",
       "          [ 0.42318696],\n",
       "          [ 0.42318696]],\n",
       "\n",
       "         ...,\n",
       "\n",
       "         [[ 1.1061058 ],\n",
       "          [ 1.1061058 ],\n",
       "          [ 1.0701627 ],\n",
       "          ...,\n",
       "          [ 0.09969909],\n",
       "          [ 0.09969909],\n",
       "          [ 0.09969909]],\n",
       "\n",
       "         [[ 1.1061058 ],\n",
       "          [ 1.1061058 ],\n",
       "          [ 1.0701627 ],\n",
       "          ...,\n",
       "          [ 0.09969909],\n",
       "          [ 0.09969909],\n",
       "          [ 0.09969909]],\n",
       "\n",
       "         [[ 1.1061058 ],\n",
       "          [ 1.1061058 ],\n",
       "          [ 1.0701627 ],\n",
       "          ...,\n",
       "          [ 0.09969909],\n",
       "          [ 0.09969909],\n",
       "          [ 0.09969909]]],\n",
       "\n",
       "\n",
       "        [[[ 1.4295937 ],\n",
       "          [ 1.3577075 ],\n",
       "          [ 0.9623334 ],\n",
       "          ...,\n",
       "          [ 0.42318696],\n",
       "          [ 0.38724387],\n",
       "          [ 0.38724387]],\n",
       "\n",
       "         [[ 1.3217643 ],\n",
       "          [ 1.2858213 ],\n",
       "          [ 1.0342196 ],\n",
       "          ...,\n",
       "          [ 0.42318696],\n",
       "          [ 0.38724387],\n",
       "          [ 0.38724387]],\n",
       "\n",
       "         [[ 1.5374229 ],\n",
       "          [ 1.5014799 ],\n",
       "          [ 1.4295937 ],\n",
       "          ...,\n",
       "          [ 0.42318696],\n",
       "          [ 0.38724387],\n",
       "          [ 0.38724387]],\n",
       "\n",
       "         ...,\n",
       "\n",
       "         [[ 1.1061058 ],\n",
       "          [ 1.1061058 ],\n",
       "          [ 1.0701627 ],\n",
       "          ...,\n",
       "          [ 0.09969909],\n",
       "          [ 0.063756  ],\n",
       "          [ 0.063756  ]],\n",
       "\n",
       "         [[ 1.1061058 ],\n",
       "          [ 1.1061058 ],\n",
       "          [ 1.0701627 ],\n",
       "          ...,\n",
       "          [ 0.09969909],\n",
       "          [ 0.063756  ],\n",
       "          [ 0.063756  ]],\n",
       "\n",
       "         [[ 1.1061058 ],\n",
       "          [ 1.1061058 ],\n",
       "          [ 1.0701627 ],\n",
       "          ...,\n",
       "          [ 0.09969909],\n",
       "          [ 0.063756  ],\n",
       "          [ 0.063756  ]]],\n",
       "\n",
       "\n",
       "        [[[ 1.5014799 ],\n",
       "          [ 1.3217643 ],\n",
       "          [ 0.9982765 ],\n",
       "          ...,\n",
       "          [ 0.42318696],\n",
       "          [ 0.38724387],\n",
       "          [ 0.38724387]],\n",
       "\n",
       "         [[ 1.4295937 ],\n",
       "          [ 1.2858213 ],\n",
       "          [ 0.9982765 ],\n",
       "          ...,\n",
       "          [ 0.42318696],\n",
       "          [ 0.38724387],\n",
       "          [ 0.38724387]],\n",
       "\n",
       "         [[ 1.573366  ],\n",
       "          [ 1.5374229 ],\n",
       "          [ 1.3577075 ],\n",
       "          ...,\n",
       "          [ 0.42318696],\n",
       "          [ 0.38724387],\n",
       "          [ 0.38724387]],\n",
       "\n",
       "         ...,\n",
       "\n",
       "         [[ 1.1061058 ],\n",
       "          [ 1.1061058 ],\n",
       "          [ 1.0701627 ],\n",
       "          ...,\n",
       "          [ 0.17158529],\n",
       "          [ 0.09969909],\n",
       "          [ 0.09969909]],\n",
       "\n",
       "         [[ 1.1061058 ],\n",
       "          [ 1.1061058 ],\n",
       "          [ 1.0701627 ],\n",
       "          ...,\n",
       "          [ 0.17158529],\n",
       "          [ 0.09969909],\n",
       "          [ 0.09969909]],\n",
       "\n",
       "         [[ 1.1061058 ],\n",
       "          [ 1.1061058 ],\n",
       "          [ 1.0701627 ],\n",
       "          ...,\n",
       "          [ 0.17158529],\n",
       "          [ 0.09969909],\n",
       "          [ 0.09969909]]],\n",
       "\n",
       "\n",
       "        ...,\n",
       "\n",
       "\n",
       "        [[[ 1.3936505 ],\n",
       "          [ 1.3577075 ],\n",
       "          [ 0.9982765 ],\n",
       "          ...,\n",
       "          [ 0.42318696],\n",
       "          [ 0.35130078],\n",
       "          [ 0.35130078]],\n",
       "\n",
       "         [[ 1.3577075 ],\n",
       "          [ 1.2858213 ],\n",
       "          [ 0.818561  ],\n",
       "          ...,\n",
       "          [ 0.42318696],\n",
       "          [ 0.35130078],\n",
       "          [ 0.35130078]],\n",
       "\n",
       "         [[ 1.2858213 ],\n",
       "          [ 1.3936505 ],\n",
       "          [ 1.2498782 ],\n",
       "          ...,\n",
       "          [ 0.35130078],\n",
       "          [ 0.35130078],\n",
       "          [ 0.35130078]],\n",
       "\n",
       "         ...,\n",
       "\n",
       "         [[ 1.0342196 ],\n",
       "          [ 1.0342196 ],\n",
       "          [ 1.0701627 ],\n",
       "          ...,\n",
       "          [ 0.13564219],\n",
       "          [ 0.13564219],\n",
       "          [ 0.13564219]],\n",
       "\n",
       "         [[ 1.0342196 ],\n",
       "          [ 1.0342196 ],\n",
       "          [ 1.0701627 ],\n",
       "          ...,\n",
       "          [ 0.13564219],\n",
       "          [ 0.13564219],\n",
       "          [ 0.09969909]],\n",
       "\n",
       "         [[ 1.0342196 ],\n",
       "          [ 1.0342196 ],\n",
       "          [ 1.0342196 ],\n",
       "          ...,\n",
       "          [ 0.13564219],\n",
       "          [ 0.09969909],\n",
       "          [ 0.09969909]]],\n",
       "\n",
       "\n",
       "        [[[ 1.3936505 ],\n",
       "          [ 1.4295937 ],\n",
       "          [ 1.0342196 ],\n",
       "          ...,\n",
       "          [ 0.42318696],\n",
       "          [ 0.38724387],\n",
       "          [ 0.38724387]],\n",
       "\n",
       "         [[ 1.3217643 ],\n",
       "          [ 1.3936505 ],\n",
       "          [ 0.9623334 ],\n",
       "          ...,\n",
       "          [ 0.42318696],\n",
       "          [ 0.38724387],\n",
       "          [ 0.38724387]],\n",
       "\n",
       "         [[ 1.3577075 ],\n",
       "          [ 1.4655367 ],\n",
       "          [ 1.2498782 ],\n",
       "          ...,\n",
       "          [ 0.35130078],\n",
       "          [ 0.35130078],\n",
       "          [ 0.35130078]],\n",
       "\n",
       "         ...,\n",
       "\n",
       "         [[ 1.0342196 ],\n",
       "          [ 1.0342196 ],\n",
       "          [ 1.0701627 ],\n",
       "          ...,\n",
       "          [ 0.17158529],\n",
       "          [ 0.17158529],\n",
       "          [ 0.17158529]],\n",
       "\n",
       "         [[ 1.0342196 ],\n",
       "          [ 1.0342196 ],\n",
       "          [ 1.0701627 ],\n",
       "          ...,\n",
       "          [ 0.17158529],\n",
       "          [ 0.17158529],\n",
       "          [ 0.13564219]],\n",
       "\n",
       "         [[ 1.0342196 ],\n",
       "          [ 1.0342196 ],\n",
       "          [ 1.0701627 ],\n",
       "          ...,\n",
       "          [ 0.17158529],\n",
       "          [ 0.13564219],\n",
       "          [ 0.09969909]]],\n",
       "\n",
       "\n",
       "        [[[ 1.3217643 ],\n",
       "          [ 1.4295937 ],\n",
       "          [ 1.1061058 ],\n",
       "          ...,\n",
       "          [ 0.38724387],\n",
       "          [ 0.35130078],\n",
       "          [ 0.35130078]],\n",
       "\n",
       "         [[ 1.2858213 ],\n",
       "          [ 1.4295937 ],\n",
       "          [ 0.9982765 ],\n",
       "          ...,\n",
       "          [ 0.38724387],\n",
       "          [ 0.35130078],\n",
       "          [ 0.35130078]],\n",
       "\n",
       "         [[ 1.3936505 ],\n",
       "          [ 1.3577075 ],\n",
       "          [ 1.2139351 ],\n",
       "          ...,\n",
       "          [ 0.35130078],\n",
       "          [ 0.35130078],\n",
       "          [ 0.35130078]],\n",
       "\n",
       "         ...,\n",
       "\n",
       "         [[ 1.0342196 ],\n",
       "          [ 1.0342196 ],\n",
       "          [ 1.0701627 ],\n",
       "          ...,\n",
       "          [ 0.17158529],\n",
       "          [ 0.17158529],\n",
       "          [ 0.17158529]],\n",
       "\n",
       "         [[ 1.0342196 ],\n",
       "          [ 1.0342196 ],\n",
       "          [ 1.0701627 ],\n",
       "          ...,\n",
       "          [ 0.17158529],\n",
       "          [ 0.17158529],\n",
       "          [ 0.13564219]],\n",
       "\n",
       "         [[ 0.9982765 ],\n",
       "          [ 0.9982765 ],\n",
       "          [ 0.9982765 ],\n",
       "          ...,\n",
       "          [ 0.17158529],\n",
       "          [ 0.13564219],\n",
       "          [ 0.09969909]]]]], dtype=float32)"
      ]
     },
     "execution_count": 31,
     "metadata": {},
     "output_type": "execute_result"
    }
   ],
   "source": [
    "# val[0] -> Frames \n",
    "val=test.next();val[0]"
   ]
  },
  {
   "cell_type": "code",
   "execution_count": 32,
   "id": "c228b697-4f3f-4913-8ce3-285e2f6cc428",
   "metadata": {},
   "outputs": [
    {
     "name": "stdout",
     "output_type": "stream",
     "text": [
      "Batched frames shape: (2, 75, 46, 140, 1)\n",
      "First video frames shape: (75, 46, 140, 1)\n"
     ]
    }
   ],
   "source": [
    "for frames, alignments in data.take(1):  # Take just one batch to examine\n",
    "    print(\"Batched frames shape:\", frames.shape)  # Should show (2, 75, 46, 140, 1) for your batch\n",
    "\n",
    "    # Select the first video in the batch\n",
    "    first_video_frames = frames.numpy()[0]  # This will have shape (75, 46, 140, 1)\n",
    "    print(\"First video frames shape:\", first_video_frames.shape)\n",
    "\n",
    "    # Convert frames from float32 to uint8, ensuring data is in the range 0-255\n",
    "    frames_uint8 = np.clip(first_video_frames * 255, 0, 255).astype(np.uint8)\n",
    "\n",
    "    # Reshape if necessary, check channels\n",
    "    if frames_uint8.shape[-1] == 1:\n",
    "        # Convert grayscale to RGB by repeating the channels\n",
    "        frames_uint8 = np.repeat(frames_uint8, 3, axis=-1)\n",
    "\n",
    "    # Save as GIF\n",
    "    imageio.mimsave('./lip_movement.gif', frames_uint8, fps=10)\n"
   ]
  },
  {
   "cell_type": "code",
   "execution_count": 33,
   "id": "0a658d94-71c9-47c5-9828-9d519aa2747f",
   "metadata": {},
   "outputs": [
    {
     "data": {
      "image/gif": "[encoded data removed]",
      "text/plain": [
       "<IPython.core.display.Image object>"
      ]
     },
     "execution_count": 33,
     "metadata": {
      "image/gif": {
       "height": 300,
       "width": 400
      }
     },
     "output_type": "execute_result"
    }
   ],
   "source": [
    "from IPython.display import Image\n",
    "# Display the GIF in the notebook\n",
    "Image(filename='./lip_movement.gif', width=400, height=300) \n"
   ]
  },
  {
   "cell_type": "code",
   "execution_count": 34,
   "id": "a7ad0be3-daea-4f1a-929e-be13052e28cb",
   "metadata": {},
   "outputs": [
    {
     "data": {
      "text/plain": [
       "<matplotlib.image.AxesImage at 0x7efcdc1ef430>"
      ]
     },
     "execution_count": 34,
     "metadata": {},
     "output_type": "execute_result"
    },
    {
     "data": {
      "image/png": "[encoded data removed]",
      "text/plain": [
       "<Figure size 640x480 with 1 Axes>"
      ]
     },
     "metadata": {},
     "output_type": "display_data"
    }
   ],
   "source": [
    "''' 1st [0] - videos\n",
    "    2nd [0] - 1st video of the batch\n",
    "    3rd [0]  - Number of the frame in the video\n",
    "'''\n",
    "plt.imshow(val[0][0][33])\n",
    "\n",
    "# This command is plotting the 1st video of the batch and with the frame 33rd"
   ]
  },
  {
   "cell_type": "code",
   "execution_count": 35,
   "id": "c61ff822-2fe2-49f2-897b-a890c5bb3373",
   "metadata": {},
   "outputs": [
    {
     "data": {
      "text/plain": [
       "TensorShape([2, 75, 46, 140, 1])"
      ]
     },
     "execution_count": 35,
     "metadata": {},
     "output_type": "execute_result"
    }
   ],
   "source": [
    "frames.shape"
   ]
  },
  {
   "cell_type": "code",
   "execution_count": 36,
   "id": "5a761448-1c6b-44c9-b706-9225f5ac2875",
   "metadata": {},
   "outputs": [],
   "source": [
    "sample = data.as_numpy_iterator()"
   ]
  },
  {
   "cell_type": "code",
   "execution_count": 37,
   "id": "770c3946-9e55-4f74-9993-4895a813e364",
   "metadata": {},
   "outputs": [
    {
     "data": {
      "text/plain": [
       "2"
      ]
     },
     "execution_count": 37,
     "metadata": {},
     "output_type": "execute_result"
    }
   ],
   "source": [
    "len(frames)"
   ]
  },
  {
   "cell_type": "code",
   "execution_count": 38,
   "id": "15516f2a-f6bc-4342-bae8-84a4e3e5d6ae",
   "metadata": {},
   "outputs": [
    {
     "data": {
      "text/plain": [
       "<tf.Tensor: shape=(2, 40), dtype=int64, numpy=\n",
       "array([[39, 12,  1, 25, 39,  7, 18,  5,  5, 14, 39,  1, 20, 39, 13, 39,\n",
       "        26,  5, 18, 15, 39, 16, 12,  5,  1, 19,  5,  0,  0,  0,  0,  0,\n",
       "         0,  0,  0,  0,  0,  0,  0,  0],\n",
       "       [39, 16, 12,  1,  3,  5, 39, 18,  5,  4, 39,  9, 14, 39, 16, 39,\n",
       "        20,  8, 18,  5,  5, 39,  1,  7,  1,  9, 14,  0,  0,  0,  0,  0,\n",
       "         0,  0,  0,  0,  0,  0,  0,  0]])>"
      ]
     },
     "execution_count": 38,
     "metadata": {},
     "output_type": "execute_result"
    }
   ],
   "source": [
    "# Now we can see taht the padding is successful!\n",
    "\n",
    "alignments"
   ]
  },
  {
   "cell_type": "code",
   "execution_count": 39,
   "id": "7b6720ad-6349-44a8-b44f-200c27dac95c",
   "metadata": {},
   "outputs": [
    {
     "data": {
      "text/plain": [
       "<tf.Tensor: shape=(), dtype=string, numpy=b' bin blue in r seven soon'>"
      ]
     },
     "execution_count": 39,
     "metadata": {},
     "output_type": "execute_result"
    }
   ],
   "source": [
    "# Meaning of thses alignments can be intrepreted by the tf.strings.reduce_join-\n",
    "tf.strings.reduce_join([numbers_to_letters(x) for x in val[1][0]])"
   ]
  },
  {
   "cell_type": "markdown",
   "id": "54be0f78-44b9-479a-8399-a9ba193cdc45",
   "metadata": {},
   "source": [
    "<div class='alert alert-success'><span style=\"font-family:times; font-size:1.5em;\"> Creating the Model Architecture.\n",
    "</span>\n",
    "</div>\n",
    "\n",
    "<span style=\"font-family:times; font-size:1.5em;\"> <span style='color:red'>For videos processing we are using the Conv3D and for training the model I have used the Loss function- CTC: https://keras.io/examples/audio/ctc_asr/\n",
    "</span>"
   ]
  },
  {
   "cell_type": "code",
   "execution_count": 40,
   "id": "1a7d1f15-ae61-452b-bd4a-95a12913f175",
   "metadata": {},
   "outputs": [],
   "source": [
    "'''Batching the data that is - Splitting the data into training and testing'''\n",
    "train = data.take(450)  # Trainiig data set\n",
    "test = data.skip(450)  # Testing dataset"
   ]
  },
  {
   "cell_type": "code",
   "execution_count": 41,
   "id": "755b8728-1afe-4906-b403-545a8115991f",
   "metadata": {},
   "outputs": [
    {
     "name": "stdout",
     "output_type": "stream",
     "text": [
      "Model: \"sequential\"\n",
      "_________________________________________________________________\n",
      " Layer (type)                Output Shape              Param #   \n",
      "=================================================================\n",
      " conv3d (Conv3D)             (None, 75, 46, 140, 128   3584      \n",
      "                             )                                   \n",
      "                                                                 \n",
      " activation (Activation)     (None, 75, 46, 140, 128   0         \n",
      "                             )                                   \n",
      "                                                                 \n",
      " max_pooling3d (MaxPooling3  (None, 75, 23, 70, 128)   0         \n",
      " D)                                                              \n",
      "                                                                 \n",
      " conv3d_1 (Conv3D)           (None, 75, 23, 70, 256)   884992    \n",
      "                                                                 \n",
      " activation_1 (Activation)   (None, 75, 23, 70, 256)   0         \n",
      "                                                                 \n",
      " max_pooling3d_1 (MaxPoolin  (None, 75, 11, 35, 256)   0         \n",
      " g3D)                                                            \n",
      "                                                                 \n",
      " conv3d_2 (Conv3D)           (None, 75, 11, 35, 75)    518475    \n",
      "                                                                 \n",
      " activation_2 (Activation)   (None, 75, 11, 35, 75)    0         \n",
      "                                                                 \n",
      " max_pooling3d_2 (MaxPoolin  (None, 75, 5, 17, 75)     0         \n",
      " g3D)                                                            \n",
      "                                                                 \n",
      " time_distributed (TimeDist  (None, 75, 6375)          0         \n",
      " ributed)                                                        \n",
      "                                                                 \n",
      " bidirectional (Bidirection  (None, 75, 256)           6660096   \n",
      " al)                                                             \n",
      "                                                                 \n",
      " dropout (Dropout)           (None, 75, 256)           0         \n",
      "                                                                 \n",
      " bidirectional_1 (Bidirecti  (None, 75, 256)           394240    \n",
      " onal)                                                           \n",
      "                                                                 \n",
      " dropout_1 (Dropout)         (None, 75, 256)           0         \n",
      "                                                                 \n",
      " dense (Dense)               (None, 75, 41)            10537     \n",
      "                                                                 \n",
      "=================================================================\n",
      "Total params: 8471924 (32.32 MB)\n",
      "Trainable params: 8471924 (32.32 MB)\n",
      "Non-trainable params: 0 (0.00 Byte)\n",
      "_________________________________________________________________\n"
     ]
    }
   ],
   "source": [
    "'''\n",
    "   ---------------------------------------------------------------------- Model Architecture--------------------------------------------------------------------\n",
    "'''\n",
    "# Create the Sequential model\n",
    "model = models.Sequential([\n",
    "    \n",
    "    # 3D Convolution Layer 1: This layer applies 128 filters of size (3, 3, 3) to the input data,\n",
    "    layers.Conv3D(128, (3, 3, 3), padding='same', input_shape=(75, 46, 140, 1)),\n",
    "    layers.Activation('relu'), # Introducing non-linearity to the model\n",
    "    layers.MaxPool3D(pool_size=(1, 2, 2)),\n",
    "\n",
    "    # 3D Convolution Layer 2: This layer applies 256 filters of size (3, 3, 3) to the input data,\n",
    "    layers.Conv3D(256, (3, 3, 3), padding='same'),\n",
    "    layers.Activation('relu'),\n",
    "    layers.MaxPool3D(pool_size=(1, 2, 2)),\n",
    "\n",
    "    # 3D Convolution Layer 3 : This layer applies 75 filters of size (3, 3, 3) to the input data,\n",
    "    layers.Conv3D(75, (3, 3, 3), padding='same'),\n",
    "    layers.Activation('relu'),\n",
    "    layers.MaxPool3D(pool_size=(1, 2, 2)),\n",
    "\n",
    "    # Flatten the output and prepare for LSTM Here from above we get the output as - (None, 75, 5, 17, 75) , then for flattening, we have preseerved the time frames and condednsed the rest to \n",
    "    #(None, 75, 5*17*75 = 6375)\n",
    "    layers.TimeDistributed(Flatten()), \n",
    "\n",
    "    # Bidirectional LSTM Layer 1 : Bidirectional LSTM processes the sequence both forwards and backwards that is - two times (128 units) bi-directional\n",
    "    layers.Bidirectional(LSTM(128, kernel_initializer='orthogonal', return_sequences=True)),\n",
    "    layers.Dropout(0.5),\n",
    "\n",
    "    # Bidirectional LSTM Layer 2 : Bidirectional LSTM processes the sequence both forwards and backwards that is - two times (128 units) bi-directional\n",
    "    layers.Bidirectional(LSTM(128, kernel_initializer='orthogonal', return_sequences=True)),\n",
    "    layers.Dropout(0.5),\n",
    "\n",
    "    # Dense output layer gives out 75 frames and 41 characters \n",
    "    layers.Dense(letter_to_number.vocabulary_size() + 1, kernel_initializer='he_normal', activation='softmax') \n",
    "])\n",
    "\n",
    "# Summary of the model architechure\n",
    "model.summary()\n"
   ]
  },
  {
   "cell_type": "markdown",
   "id": "726d20f6-edce-4e25-8e8a-265689ef49b7",
   "metadata": {},
   "source": [
    "<div class='alert alert-warning'><span style='color:red'><span style=\"font-family:times; font-size:1.5em;\"> <b>Making a check if the model is working or not before training it!\n",
    "</b>\n",
    "</span>\n",
    "</span>\n",
    "</div>"
   ]
  },
  {
   "cell_type": "code",
   "execution_count": 42,
   "id": "07d21b3d-1eff-463b-b8b9-97f1a9ffbc20",
   "metadata": {},
   "outputs": [
    {
     "name": "stderr",
     "output_type": "stream",
     "text": [
      "2024-04-25 23:48:00.027240: I tensorflow/compiler/xla/stream_executor/cuda/cuda_dnn.cc:432] Loaded cuDNN version 8800\n",
      "2024-04-25 23:48:00.113985: I tensorflow/tsl/platform/default/subprocess.cc:304] Start cannot spawn child process: No such file or directory\n"
     ]
    },
    {
     "name": "stdout",
     "output_type": "stream",
     "text": [
      "1/1 [==============================] - 2s 2s/step\n"
     ]
    }
   ],
   "source": [
    "predictions = model.predict(val[0])"
   ]
  },
  {
   "cell_type": "code",
   "execution_count": 43,
   "id": "d7ef5507-6374-40c2-b2c2-16e88e8a76aa",
   "metadata": {},
   "outputs": [
    {
     "data": {
      "text/plain": [
       "<tf.Tensor: shape=(75,), dtype=int64, numpy=\n",
       "array([ 5,  5,  5,  5,  5,  5,  5,  5,  5,  5,  5,  5,  5,  5,  5,  5,  5,\n",
       "        5,  5,  5,  5,  5,  5,  5,  5,  5, 37, 37, 37, 37, 37, 37, 37, 37,\n",
       "       37, 37, 37, 37, 37, 37, 37, 37, 37, 37, 37, 37, 37, 37, 37, 37, 37,\n",
       "       37, 37, 37, 37, 37, 37, 37, 37, 37, 37, 37, 37, 37, 37, 37, 37, 37,\n",
       "       37, 26, 26, 26, 26, 26, 26])>"
      ]
     },
     "execution_count": 43,
     "metadata": {},
     "output_type": "execute_result"
    }
   ],
   "source": [
    "# THus the model is predict this transcript for the video in terms of the alingments\n",
    "tf.argmax(predictions[0],axis=1)"
   ]
  },
  {
   "cell_type": "code",
   "execution_count": 44,
   "id": "1a6435e7-3045-4a26-a496-e3cc6c9c8b01",
   "metadata": {},
   "outputs": [
    {
     "name": "stdout",
     "output_type": "stream",
     "text": [
      "[b'eeeeeeeeeeeeeeeeeeeeeeeeee8888888888888888888888888888888888888888888zzzzzz'\n",
      " b'    6666666666666666666666666666bbbbbbbbbbbbbbbbbbbbbbbbbbbbbbbbbb6666bbbbb']\n"
     ]
    }
   ],
   "source": [
    "# For actual representationss fo the letters we use - number_to_letters\n",
    "# Get the argmax (index of the highest probability prediction) along the last dimension (character class probabilities)\n",
    "predicted_indices = tf.argmax(predictions, axis=-1)\n",
    "\n",
    "# Convert numerical indices to character strings\n",
    "decoded_characters = numbers_to_letters(predicted_indices)\n",
    "\n",
    "# Since `decoded_characters` will be a tensor of strings, use `tf.strings.reduce_join` to concatenate the strings along the sequence\n",
    "decoded_strings = tf.strings.reduce_join(decoded_characters, axis=-1)\n",
    "\n",
    "# Print the decoded strings\n",
    "print(decoded_strings.numpy())"
   ]
  },
  {
   "cell_type": "code",
   "execution_count": 45,
   "id": "00bdff1b-75b9-45bb-b924-6ed67d5c0e87",
   "metadata": {},
   "outputs": [],
   "source": [
    "class Example(tf.keras.callbacks.Callback):\n",
    "    def __init__(self,dataset)->None:\n",
    "        self.dataset=dataset.as_numpy_iterator()\n",
    "\n",
    "    def on_epoch_end(self,epoch,logs=None)->None:\n",
    "        data=self.dataset.next()\n",
    "        predictions=self.model.predict(data[0])\n",
    "        decoded=tf.keras.backend.ctc_decode(predictions,[75,75],greedy=False)[0][0].numpy()\n",
    "        for x in range(len(predictions)):\n",
    "            print('Actual Words:',tf.strings.reduce_join([vocab[word]+ '' for word in data[1][x]]).decode('utf-8'))\n",
    "            print('Predicted Words:', tf.strings.reduce_join(numbers_to_letters(decoded[x])).numpy().decode('utf-8'))\n",
    "            print('~'*100)"
   ]
  },
  {
   "cell_type": "code",
   "execution_count": 79,
   "id": "b99cf9d0-69dc-41c9-80d0-a4112089cbc9",
   "metadata": {},
   "outputs": [],
   "source": [
    "class Example(tf.keras.callbacks.Callback):\n",
    "    def __init__(self, dataset):\n",
    "        super().__init__()  # Initialize the base class\n",
    "        self.dataset = dataset.as_numpy_iterator()\n",
    "\n",
    "    def on_epoch_end(self, epoch, logs=None):\n",
    "        try:\n",
    "            data = self.dataset.next()\n",
    "            predictions = self.model.predict(data[0])\n",
    "            decoded = tf.keras.backend.ctc_decode(predictions, [75, 75], greedy=False)[0][0].numpy()\n",
    "            for x in range(len(predictions)):\n",
    "                try:\n",
    "                    actual_words = ' '.join([vocab.get(word, '?') for word in data[1][x]])  # Use get to avoid KeyError\n",
    "                    predicted_words = ' '.join([numbers_to_letters[num].numpy().decode('utf-8') for num in decoded[x]])\n",
    "                    print('Actual Words:', actual_words)\n",
    "                    print('Predicted Words:', predicted_words)\n",
    "                    print('~' * 100)\n",
    "                except Exception as e:\n",
    "                    print(\"Error processing text for batch index\", x, \":\", str(e))\n",
    "        except Exception as e:\n",
    "            print(\"Failed to process batch:\", str(e))\n"
   ]
  },
  {
   "cell_type": "markdown",
   "id": "a5c9f7bb-ee2a-4b06-8c86-3d5cd8ac380f",
   "metadata": {},
   "source": [
    "<div class='alert alert-danger'><span style=\"font-family:times; font-size:1.5em;\"> <b> Training the Model-\n",
    "</b>\n",
    "</span>\n",
    "</div>"
   ]
  },
  {
   "cell_type": "code",
   "execution_count": 46,
   "id": "35becc20-ad9a-447d-9e56-a7f8b126c23c",
   "metadata": {},
   "outputs": [],
   "source": [
    "'''Thsi loss function is directly copied from the CTCLoss defiend for the Automatic Speech Recognition using CTC by \n",
    "   Authors: Mohamed Reda Bouadjenek and Ngoc Dung Huynh\n",
    "   ---------------------------------------------------- https://keras.io/examples/audio/ctc_asr/ -----------------------------------------------------''' \n",
    "def CTCLoss(y_true, y_pred):\n",
    "    # Compute the training-time loss value\n",
    "    batch_len = tf.cast(tf.shape(y_true)[0], dtype=\"int64\")\n",
    "    input_length = tf.cast(tf.shape(y_pred)[1], dtype=\"int64\")\n",
    "    label_length = tf.cast(tf.shape(y_true)[1], dtype=\"int64\")\n",
    "\n",
    "    input_length = input_length * tf.ones(shape=(batch_len, 1), dtype=\"int64\")\n",
    "    label_length = label_length * tf.ones(shape=(batch_len, 1), dtype=\"int64\")\n",
    "    \n",
    "    loss = tf.keras.backend.ctc_batch_cost(y_true, y_pred, input_length, label_length)\n",
    "\n",
    "    return loss"
   ]
  },
  {
   "cell_type": "markdown",
   "id": "43835796-9edd-408a-9807-c7427a1664b6",
   "metadata": {},
   "source": [
    "<span style=\"font-family:times; font-size:1.5em;\">Also for controlled training, lets define the model's learning rate scheduler which decreases the $\\eta$ when epochs are very large!!!\n",
    " </span>"
   ]
  },
  {
   "cell_type": "code",
   "execution_count": 47,
   "id": "f2ee09e8-ce5d-4eaf-b3c6-30e93524b747",
   "metadata": {},
   "outputs": [],
   "source": [
    "def L_rate_sch(epoch,lrs):\n",
    "    if epoch < 33:\n",
    "        return lrs\n",
    "    else:\n",
    "        return lrs*tf.math.exp(-0.1)"
   ]
  },
  {
   "cell_type": "code",
   "execution_count": 48,
   "id": "371be95f-cdcc-4af9-95ac-57d2671a0ff1",
   "metadata": {},
   "outputs": [],
   "source": [
    "model.compile(optimizer=Adam(learning_rate=0.0001),loss=CTCLoss)"
   ]
  },
  {
   "cell_type": "code",
   "execution_count": 66,
   "id": "0e447165-6f69-4ce8-bbac-53573ae87e35",
   "metadata": {},
   "outputs": [],
   "source": [
    "import os\n",
    "from tensorflow.keras.callbacks import ModelCheckpoint\n",
    "\n",
    "# Ensure the checkpoint directory exists\n",
    "checkpoint_dir = 'Saved_LipNet_model/checkpoints'\n",
    "os.makedirs(checkpoint_dir, exist_ok=True)\n",
    "\n",
    "# Set up the ModelCheckpoint callback to save weights only\n",
    "checkpoint_callback = ModelCheckpoint(\n",
    "    os.path.join(checkpoint_dir, 'checkpoint'),  # Saves checkpoints to the directory\n",
    "    monitor='loss',\n",
    "    save_weights_only=True,\n",
    "    save_best_only=True,  # Saves only the best model according to monitored 'loss'\n",
    "    verbose=1  # Adds verbosity to output which can be helpful for debugging\n",
    ")"
   ]
  },
  {
   "cell_type": "code",
   "execution_count": 80,
   "id": "51f4b2ff-4e42-46c2-9337-08def241a81e",
   "metadata": {},
   "outputs": [],
   "source": [
    "schedule_callback=LearningRateScheduler(L_rate_sch)\n",
    "_callback = Example(test)"
   ]
  },
  {
   "cell_type": "code",
   "execution_count": 108,
   "id": "992ee93c-ee9c-4130-be9b-7829e17116a0",
   "metadata": {},
   "outputs": [
    {
     "name": "stdout",
     "output_type": "stream",
     "text": [
      "450/450 [==============================] - ETA: 0s - loss: 2.7218"
     ]
    },
    {
     "name": "stderr",
     "output_type": "stream",
     "text": [
      "[mpeg1video @ 0x7ef15c078140] ac-tex damaged at 22 17\n",
      "[mpeg1video @ 0x7ef15c078140] Warning MVs not available\n"
     ]
    },
    {
     "name": "stdout",
     "output_type": "stream",
     "text": [
      "\n",
      "Epoch 1: loss improved from 2.76912 to 2.72180, saving model to Saved_LipNet_model/checkpoints/checkpoint\n",
      "450/450 [==============================] - 334s 741ms/step - loss: 2.7218 - val_loss: 2.9353 - lr: 1.0000e-04\n"
     ]
    }
   ],
   "source": [
    "training = {}  # 0.286\n",
    "training = model.fit(train, validation_data=test,epochs=1,callbacks=[checkpoint_callback, schedule_callback],verbose=1)"
   ]
  },
  {
   "cell_type": "code",
   "execution_count": 100,
   "id": "1eea4ea7-5485-4e20-a117-7843e8bc5e91",
   "metadata": {},
   "outputs": [
    {
     "data": {
      "text/plain": [
       "<tensorflow.python.checkpoint.checkpoint.CheckpointLoadStatus at 0x7eedf5c44fd0>"
      ]
     },
     "execution_count": 100,
     "metadata": {},
     "output_type": "execute_result"
    }
   ],
   "source": [
    "# Define the path where the checkpoints are stored\n",
    "checkpoint_dir = 'Saved_LipNet_model/checkpoints'\n",
    "model.load_weights(tf.train.latest_checkpoint(checkpoint_dir))"
   ]
  },
  {
   "cell_type": "code",
   "execution_count": 109,
   "id": "2b8d5a4b-b6ab-4e63-8559-d7349500bb96",
   "metadata": {},
   "outputs": [
    {
     "name": "stdout",
     "output_type": "stream",
     "text": [
      "1/1 [==============================] - 0s 47ms/step\n",
      "Actual Text:  lay blue by y two now\n",
      "Predicted Text:  lay blue by y two now\n"
     ]
    }
   ],
   "source": [
    "# Specify paths\n",
    "video_path = 'data/s1/lbby2n.mpg'\n",
    "alignment_path = 'data/alignments/s1/lbby2n.align'\n",
    "\n",
    "# Load and preprocess the video and alignments\n",
    "frames = load_video(video_path)\n",
    "alignments = load_alignments(alignment_path)\n",
    "\n",
    "# Ensure frames have a batch dimension\n",
    "if len(frames.shape) == 4:\n",
    "    frames = tf.expand_dims(frames, axis=0)\n",
    "\n",
    "# Make predictions\n",
    "predictions = model.predict(frames)\n",
    "\n",
    "# Decode predictions\n",
    "decoded_predictions = tf.keras.backend.ctc_decode(predictions, input_length=[frames.shape[1]] * frames.shape[0], greedy=True)[0][0]\n",
    "\n",
    "# Convert predictions and actual indices to text\n",
    "predicted_text = tf.strings.reduce_join(numbers_to_letters(decoded_predictions), separator='').numpy().decode('utf-8')\n",
    "actual_text = tf.strings.reduce_join(numbers_to_letters(alignments), separator='').numpy().decode('utf-8')\n",
    "\n",
    "# Display results\n",
    "print('Actual Text:', actual_text)\n",
    "print('Predicted Text:', predicted_text)"
   ]
  },
  {
   "cell_type": "code",
   "execution_count": 111,
   "id": "f9de3cfe-f82e-456b-8288-20779d714d0b",
   "metadata": {},
   "outputs": [
    {
     "name": "stdout",
     "output_type": "stream",
     "text": [
      "1/1 [==============================] - 0s 54ms/step\n",
      "Actual Text:  lay red with v zero now\n",
      "Predicted Text:  bny bie in y sive again\n"
     ]
    }
   ],
   "source": [
    "#_______________________________________________________________________TEST_PERFORMED_ON_CUSTOM_DATASET_______________________________________________________\n",
    "\n",
    "# Specify paths\n",
    "video_path = 'data/test/lrwvzn.mpg'\n",
    "alignment_path = 'data/test/lrwvzn.align'\n",
    "\n",
    "# Load and preprocess the video and alignments\n",
    "frames = load_video(video_path)\n",
    "alignments = load_alignments(alignment_path)\n",
    "\n",
    "# Ensure frames have a batch dimension\n",
    "if len(frames.shape) == 4:\n",
    "    frames = tf.expand_dims(frames, axis=0)\n",
    "\n",
    "# Make predictions\n",
    "predictions = model.predict(frames)\n",
    "\n",
    "# Decode predictions\n",
    "decoded_predictions = tf.keras.backend.ctc_decode(predictions, input_length=[frames.shape[1]] * frames.shape[0], greedy=True)[0][0]\n",
    "\n",
    "# Convert predictions and actual indices to text\n",
    "predicted_text = tf.strings.reduce_join(numbers_to_letters(decoded_predictions), separator='').numpy().decode('utf-8')\n",
    "actual_text = tf.strings.reduce_join(numbers_to_letters(alignments), separator='').numpy().decode('utf-8')\n",
    "\n",
    "# Display results\n",
    "print('Actual Text:', actual_text)\n",
    "print('Predicted Text:', predicted_text)"
   ]
  },
  {
   "cell_type": "code",
   "execution_count": null,
   "id": "051d91a5-f20c-44cc-861c-d4858ff3cfc5",
   "metadata": {},
   "outputs": [],
   "source": []
  }
 ],
 "metadata": {
  "kernelspec": {
   "display_name": "Python 3 (ml4s)",
   "language": "python",
   "name": "ml4s"
  },
  "language_info": {
   "codemirror_mode": {
    "name": "ipython",
    "version": 3
   },
   "file_extension": ".py",
   "mimetype": "text/x-python",
   "name": "python",
   "nbconvert_exporter": "python",
   "pygments_lexer": "ipython3",
   "version": "3.9.18"
  }
 },
 "nbformat": 4,
 "nbformat_minor": 5
}
